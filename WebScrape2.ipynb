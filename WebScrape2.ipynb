{
  "cells": [
    {
      "cell_type": "code",
      "execution_count": 1,
      "metadata": {
        "id": "Wa6IqUunsqjL"
      },
      "outputs": [],
      "source": [
        "import numpy as np\n",
        "import pandas as pd"
      ]
    },
    {
      "cell_type": "code",
      "execution_count": 2,
      "metadata": {
        "id": "LBwqxrzCs0Gw"
      },
      "outputs": [],
      "source": [
        "seasons = [str(season) for season in range(2021, 2025)]\n",
        "\n",
        "teams = ['crd', 'atl', 'rav', 'buf', 'car', 'chi', 'cin', 'cle', 'dal', 'den', 'det', 'gnb', 'htx', 'clt', 'jax', 'kan', 'sdg', 'ram', 'rai', 'mia', 'min', 'nwe', 'nor', 'nyg', 'nyj', 'phi', 'pit', 'sea', 'sfo', 'tam', 'oti', 'was']\n"
      ]
    },
    {
      "cell_type": "code",
      "execution_count": 3,
      "metadata": {
        "colab": {
          "base_uri": "https://localhost:8080/"
        },
        "id": "KtgWJVnSuUyz",
        "outputId": "8ed90b3b-db65-431c-b23d-c3df0dbd495b"
      },
      "outputs": [
        {
          "output_type": "stream",
          "name": "stdout",
          "text": [
            "     Season  Week Team  Day          Date Unnamed: 3 Unnamed: 4   OT  \\\n",
            "0      2021     1  CRD  Sun  September 12   boxscore          W  NaN   \n",
            "1      2021     2  CRD  Sun  September 19   boxscore          W  NaN   \n",
            "2      2021     3  CRD  Sun  September 26   boxscore          W  NaN   \n",
            "3      2021     4  CRD  Sun     October 3   boxscore          W  NaN   \n",
            "4      2021     5  CRD  Sun    October 10   boxscore          W  NaN   \n",
            "...     ...   ...  ...  ...           ...        ...        ...  ...   \n",
            "2169   2024    13  WAS  Sun    December 1   boxscore          W  NaN   \n",
            "2170   2024    15  WAS  Sun   December 15   boxscore          W  NaN   \n",
            "2171   2024    16  WAS  Sun   December 22   boxscore          W  NaN   \n",
            "2172   2024    17  WAS  Sun   December 29   boxscore          W   OT   \n",
            "2173   2024    18  WAS  Sun     January 5   boxscore          W  NaN   \n",
            "\n",
            "     Unnamed: 6                   Opp  ...  FGA  XPM  XPA  Pnt  Yds.3  3DConv  \\\n",
            "0             @      Tennessee Titans  ...    1    1    2    3    151       5   \n",
            "1           NaN     Minnesota Vikings  ...    3    3    4    5    231       2   \n",
            "2             @  Jacksonville Jaguars  ...    0    1    3    6    289       2   \n",
            "3             @      Los Angeles Rams  ...    3    2    2    1     37       6   \n",
            "4           NaN   San Francisco 49ers  ...    1    1    1    2     97       3   \n",
            "...         ...                   ...  ...  ...  ...  ...  ...    ...     ...   \n",
            "2169        NaN      Tennessee Titans  ...    2    1    1    4    213       5   \n",
            "2170          @    New Orleans Saints  ...    2    1    1    4    187       3   \n",
            "2171        NaN   Philadelphia Eagles  ...    5    3    3    4    160       3   \n",
            "2172        NaN       Atlanta Falcons  ...    2    3    3    3    141       2   \n",
            "2173          @        Dallas Cowboys  ...    4    1    1    4    198       7   \n",
            "\n",
            "      3DAtt  4DConv  4DAtt    ToP  \n",
            "0        14       1      3  26:39  \n",
            "1        10       0      0  28:08  \n",
            "2        11       1      1  27:06  \n",
            "3        11       0      1  24:50  \n",
            "4        11       1      5  31:54  \n",
            "...     ...     ...    ...    ...  \n",
            "2169     12       0      1  19:47  \n",
            "2170     11       1      1  19:10  \n",
            "2171     16       3      3  36:18  \n",
            "2172     10       2      2  25:46  \n",
            "2173     17       1      2  37:03  \n",
            "\n",
            "[2174 rows x 74 columns]\n"
          ]
        }
      ],
      "source": [
        "import random\n",
        "import time\n",
        "\n",
        "nfl_df = pd.DataFrame() #empty dataframe to append to\n",
        "\n",
        "for season in seasons:\n",
        "    for team in teams:\n",
        "      url = 'https://www.pro-football-reference.com/teams/' + team + '/' + season + '/gamelog/'\n",
        "      offData = pd.read_html(url, header=1, attrs={'id':'gamelog' + season})[0]\n",
        "      defData = pd.read_html(url, header=1, attrs={'id':'gamelog_opp' + season})[0]\n",
        "      team_df = pd.concat([offData, defData], axis=1) #concat 2 dataframes (axis=1 means combine along columns rather than rows)\n",
        "      #create columns that include team name and season\n",
        "      team_df.insert(loc=0, column='Season', value=season)\n",
        "      team_df.insert(loc=2, column='Team', value=team.upper())\n",
        "\n",
        "      nfl_df = pd.concat([nfl_df, team_df], ignore_index = True) #concat along rows\n",
        "      time.sleep(random.randint(7, 8))\n",
        "\n",
        "print(nfl_df)"
      ]
    },
    {
      "cell_type": "code",
      "execution_count": 4,
      "metadata": {
        "id": "2kfRibG1yKtW"
      },
      "outputs": [],
      "source": [
        "nfl_df.to_csv('nfl_data.csv', index=False)"
      ]
    }
  ],
  "metadata": {
    "colab": {
      "provenance": []
    },
    "kernelspec": {
      "display_name": "Python 3",
      "name": "python3"
    },
    "language_info": {
      "name": "python"
    }
  },
  "nbformat": 4,
  "nbformat_minor": 0
}